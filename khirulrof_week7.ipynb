{
 "cells": [
  {
   "cell_type": "markdown",
   "metadata": {},
   "source": [
    "Task 1"
   ]
  },
  {
   "cell_type": "code",
   "execution_count": 4,
   "metadata": {},
   "outputs": [
    {
     "name": "stdout",
     "output_type": "stream",
     "text": [
      "What is your blood pressure? 120\n",
      "Your status is currently: Warning!\n"
     ]
    }
   ],
   "source": [
    "input_BP = int(input(\"What is your blood pressure? \"))\n",
    "\n",
    "BP_STATUS = \"\"\n",
    "\n",
    "if input_BP <= 89:\n",
    "    BP_STATUS = \"Low\"\n",
    "    \n",
    "elif 90 <= input_BP <= 119:\n",
    "    BP_STATUS = \"ideal\"\n",
    "    \n",
    "elif 120 <= input_BP <= 139:\n",
    "    BP_STATUS = \"Warning\"\n",
    "    \n",
    "elif 140 <= input_BP <= 159:\n",
    "    BP_STATUS = \"High\"\n",
    "    \n",
    "else:\n",
    "    BP_STATUS = \"Emergency\"\n",
    "\n",
    "print(\"Your status is currently: {}!\".format(BP_STATUS))"
   ]
  },
  {
   "cell_type": "code",
   "execution_count": null,
   "metadata": {},
   "outputs": [],
   "source": []
  }
 ],
 "metadata": {
  "kernelspec": {
   "display_name": "Python 3",
   "language": "python",
   "name": "python3"
  },
  "language_info": {
   "codemirror_mode": {
    "name": "ipython",
    "version": 3
   },
   "file_extension": ".py",
   "mimetype": "text/x-python",
   "name": "python",
   "nbconvert_exporter": "python",
   "pygments_lexer": "ipython3",
   "version": "3.8.3"
  }
 },
 "nbformat": 4,
 "nbformat_minor": 4
}
